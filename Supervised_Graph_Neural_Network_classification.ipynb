{
  "nbformat": 4,
  "nbformat_minor": 0,
  "metadata": {
    "colab": {
      "name": "Supervised Graph Neural Network classification.ipynb",
      "provenance": []
    },
    "kernelspec": {
      "name": "python3",
      "display_name": "Python 3"
    },
    "language_info": {
      "name": "python"
    }
  },
  "cells": [
    {
      "cell_type": "code",
      "metadata": {
        "colab": {
          "base_uri": "https://localhost:8080/"
        },
        "id": "5A18c8jk7fkU",
        "outputId": "e3aba9e9-4019-493f-983d-21ea57eccf3f"
      },
      "source": [
        "import sys\n",
        "if 'google.colab' in sys.modules:\n",
        "  %pip install -q stellargraph[demos]==1.2.1"
      ],
      "execution_count": 1,
      "outputs": [
        {
          "output_type": "stream",
          "name": "stdout",
          "text": [
            "\u001b[?25l\r\u001b[K     |▊                               | 10 kB 25.0 MB/s eta 0:00:01\r\u001b[K     |█▌                              | 20 kB 32.4 MB/s eta 0:00:01\r\u001b[K     |██▎                             | 30 kB 37.8 MB/s eta 0:00:01\r\u001b[K     |███                             | 40 kB 41.0 MB/s eta 0:00:01\r\u001b[K     |███▊                            | 51 kB 6.0 MB/s eta 0:00:01\r\u001b[K     |████▌                           | 61 kB 7.0 MB/s eta 0:00:01\r\u001b[K     |█████▎                          | 71 kB 7.9 MB/s eta 0:00:01\r\u001b[K     |██████                          | 81 kB 8.9 MB/s eta 0:00:01\r\u001b[K     |██████▊                         | 92 kB 5.0 MB/s eta 0:00:01\r\u001b[K     |███████▌                        | 102 kB 5.4 MB/s eta 0:00:01\r\u001b[K     |████████▎                       | 112 kB 5.4 MB/s eta 0:00:01\r\u001b[K     |█████████                       | 122 kB 5.4 MB/s eta 0:00:01\r\u001b[K     |█████████▉                      | 133 kB 5.4 MB/s eta 0:00:01\r\u001b[K     |██████████▌                     | 143 kB 5.4 MB/s eta 0:00:01\r\u001b[K     |███████████▎                    | 153 kB 5.4 MB/s eta 0:00:01\r\u001b[K     |████████████                    | 163 kB 5.4 MB/s eta 0:00:01\r\u001b[K     |████████████▉                   | 174 kB 5.4 MB/s eta 0:00:01\r\u001b[K     |█████████████▌                  | 184 kB 5.4 MB/s eta 0:00:01\r\u001b[K     |██████████████▎                 | 194 kB 5.4 MB/s eta 0:00:01\r\u001b[K     |███████████████                 | 204 kB 5.4 MB/s eta 0:00:01\r\u001b[K     |███████████████▉                | 215 kB 5.4 MB/s eta 0:00:01\r\u001b[K     |████████████████▋               | 225 kB 5.4 MB/s eta 0:00:01\r\u001b[K     |█████████████████▎              | 235 kB 5.4 MB/s eta 0:00:01\r\u001b[K     |██████████████████              | 245 kB 5.4 MB/s eta 0:00:01\r\u001b[K     |██████████████████▉             | 256 kB 5.4 MB/s eta 0:00:01\r\u001b[K     |███████████████████▋            | 266 kB 5.4 MB/s eta 0:00:01\r\u001b[K     |████████████████████▎           | 276 kB 5.4 MB/s eta 0:00:01\r\u001b[K     |█████████████████████           | 286 kB 5.4 MB/s eta 0:00:01\r\u001b[K     |█████████████████████▉          | 296 kB 5.4 MB/s eta 0:00:01\r\u001b[K     |██████████████████████▋         | 307 kB 5.4 MB/s eta 0:00:01\r\u001b[K     |███████████████████████▍        | 317 kB 5.4 MB/s eta 0:00:01\r\u001b[K     |████████████████████████        | 327 kB 5.4 MB/s eta 0:00:01\r\u001b[K     |████████████████████████▉       | 337 kB 5.4 MB/s eta 0:00:01\r\u001b[K     |█████████████████████████▋      | 348 kB 5.4 MB/s eta 0:00:01\r\u001b[K     |██████████████████████████▍     | 358 kB 5.4 MB/s eta 0:00:01\r\u001b[K     |███████████████████████████     | 368 kB 5.4 MB/s eta 0:00:01\r\u001b[K     |███████████████████████████▉    | 378 kB 5.4 MB/s eta 0:00:01\r\u001b[K     |████████████████████████████▋   | 389 kB 5.4 MB/s eta 0:00:01\r\u001b[K     |█████████████████████████████▍  | 399 kB 5.4 MB/s eta 0:00:01\r\u001b[K     |██████████████████████████████▏ | 409 kB 5.4 MB/s eta 0:00:01\r\u001b[K     |██████████████████████████████▉ | 419 kB 5.4 MB/s eta 0:00:01\r\u001b[K     |███████████████████████████████▋| 430 kB 5.4 MB/s eta 0:00:01\r\u001b[K     |████████████████████████████████| 435 kB 5.4 MB/s \n",
            "\u001b[K     |████████████████████████████████| 482 kB 59.6 MB/s \n",
            "\u001b[K     |████████████████████████████████| 41 kB 571 kB/s \n",
            "\u001b[?25h  Building wheel for mplleaflet (setup.py) ... \u001b[?25l\u001b[?25hdone\n"
          ]
        }
      ]
    },
    {
      "cell_type": "code",
      "source": [
        "# verify that we're using the correct version of StellarGraph for this notebook\n",
        "import stellargraph as sg\n",
        "\n",
        "try:\n",
        "    sg.utils.validate_notebook_version(\"1.2.1\")\n",
        "except AttributeError:\n",
        "    raise ValueError(\n",
        "        f\"This notebook requires StellarGraph version 1.2.1, but a different version {sg.__version__} is installed.  Please see <https://github.com/stellargraph/stellargraph/issues/1172>.\"\n",
        "    ) from None"
      ],
      "metadata": {
        "id": "qDP_ro5aK3_m"
      },
      "execution_count": 2,
      "outputs": []
    },
    {
      "cell_type": "code",
      "metadata": {
        "id": "oEiwBipP7e5_"
      },
      "source": [
        "import pandas as pd\n",
        "import numpy as np\n",
        "\n",
        "import stellargraph as sg\n",
        "from stellargraph.mapper import PaddedGraphGenerator\n",
        "from stellargraph.layer import DeepGraphCNN\n",
        "from stellargraph import StellarGraph\n",
        "\n",
        "from stellargraph import datasets\n",
        "\n",
        "from sklearn import model_selection\n",
        "from IPython.display import display, HTML\n",
        "\n",
        "from tensorflow.keras import Model\n",
        "from tensorflow.keras.optimizers import Adam\n",
        "from tensorflow.keras.layers import Dense, Conv1D, MaxPool1D, Dropout, Flatten\n",
        "from tensorflow.keras.losses import binary_crossentropy\n",
        "import tensorflow as tf"
      ],
      "execution_count": 3,
      "outputs": []
    },
    {
      "cell_type": "code",
      "source": [
        "dataset = datasets.PROTEINS()\n",
        "display(HTML(dataset.description))\n",
        "graphs, graph_labels = dataset.load()"
      ],
      "metadata": {
        "colab": {
          "base_uri": "https://localhost:8080/",
          "height": 52
        },
        "id": "1G1RqUbrNFK6",
        "outputId": "6a51f1f6-8117-40f1-e5f0-bc10a8ae230e"
      },
      "execution_count": 26,
      "outputs": [
        {
          "output_type": "display_data",
          "data": {
            "text/html": [
              "Each graph represents a protein and graph labels represent whether they are are enzymes or non-enzymes. The dataset includes 1113 graphs with 39 nodes and 73 edges on average for each graph. Graph nodes have 4 attributes (including a one-hot encoding of their label), and each graph is labelled as belonging to 1 of 2 classes."
            ],
            "text/plain": [
              "<IPython.core.display.HTML object>"
            ]
          },
          "metadata": {}
        }
      ]
    },
    {
      "cell_type": "code",
      "source": [
        "summary = pd.DataFrame(\n",
        "    [(g.number_of_nodes(), g.number_of_edges()) for g in graphs],\n",
        "    columns=[\"nodes\", \"edges\"],\n",
        ")\n",
        "summary.describe().round(1)"
      ],
      "metadata": {
        "colab": {
          "base_uri": "https://localhost:8080/",
          "height": 300
        },
        "id": "VqU7lIH6NFN6",
        "outputId": "8e141b8b-d6bb-4110-ea37-c9a5d7bf4f78"
      },
      "execution_count": 5,
      "outputs": [
        {
          "output_type": "execute_result",
          "data": {
            "text/html": [
              "\n",
              "  <div id=\"df-6eb61eb1-db4f-45d2-a4e7-6db072d28272\">\n",
              "    <div class=\"colab-df-container\">\n",
              "      <div>\n",
              "<style scoped>\n",
              "    .dataframe tbody tr th:only-of-type {\n",
              "        vertical-align: middle;\n",
              "    }\n",
              "\n",
              "    .dataframe tbody tr th {\n",
              "        vertical-align: top;\n",
              "    }\n",
              "\n",
              "    .dataframe thead th {\n",
              "        text-align: right;\n",
              "    }\n",
              "</style>\n",
              "<table border=\"1\" class=\"dataframe\">\n",
              "  <thead>\n",
              "    <tr style=\"text-align: right;\">\n",
              "      <th></th>\n",
              "      <th>nodes</th>\n",
              "      <th>edges</th>\n",
              "    </tr>\n",
              "  </thead>\n",
              "  <tbody>\n",
              "    <tr>\n",
              "      <th>count</th>\n",
              "      <td>1113.0</td>\n",
              "      <td>1113.0</td>\n",
              "    </tr>\n",
              "    <tr>\n",
              "      <th>mean</th>\n",
              "      <td>39.1</td>\n",
              "      <td>145.6</td>\n",
              "    </tr>\n",
              "    <tr>\n",
              "      <th>std</th>\n",
              "      <td>45.8</td>\n",
              "      <td>169.3</td>\n",
              "    </tr>\n",
              "    <tr>\n",
              "      <th>min</th>\n",
              "      <td>4.0</td>\n",
              "      <td>10.0</td>\n",
              "    </tr>\n",
              "    <tr>\n",
              "      <th>25%</th>\n",
              "      <td>15.0</td>\n",
              "      <td>56.0</td>\n",
              "    </tr>\n",
              "    <tr>\n",
              "      <th>50%</th>\n",
              "      <td>26.0</td>\n",
              "      <td>98.0</td>\n",
              "    </tr>\n",
              "    <tr>\n",
              "      <th>75%</th>\n",
              "      <td>45.0</td>\n",
              "      <td>174.0</td>\n",
              "    </tr>\n",
              "    <tr>\n",
              "      <th>max</th>\n",
              "      <td>620.0</td>\n",
              "      <td>2098.0</td>\n",
              "    </tr>\n",
              "  </tbody>\n",
              "</table>\n",
              "</div>\n",
              "      <button class=\"colab-df-convert\" onclick=\"convertToInteractive('df-6eb61eb1-db4f-45d2-a4e7-6db072d28272')\"\n",
              "              title=\"Convert this dataframe to an interactive table.\"\n",
              "              style=\"display:none;\">\n",
              "        \n",
              "  <svg xmlns=\"http://www.w3.org/2000/svg\" height=\"24px\"viewBox=\"0 0 24 24\"\n",
              "       width=\"24px\">\n",
              "    <path d=\"M0 0h24v24H0V0z\" fill=\"none\"/>\n",
              "    <path d=\"M18.56 5.44l.94 2.06.94-2.06 2.06-.94-2.06-.94-.94-2.06-.94 2.06-2.06.94zm-11 1L8.5 8.5l.94-2.06 2.06-.94-2.06-.94L8.5 2.5l-.94 2.06-2.06.94zm10 10l.94 2.06.94-2.06 2.06-.94-2.06-.94-.94-2.06-.94 2.06-2.06.94z\"/><path d=\"M17.41 7.96l-1.37-1.37c-.4-.4-.92-.59-1.43-.59-.52 0-1.04.2-1.43.59L10.3 9.45l-7.72 7.72c-.78.78-.78 2.05 0 2.83L4 21.41c.39.39.9.59 1.41.59.51 0 1.02-.2 1.41-.59l7.78-7.78 2.81-2.81c.8-.78.8-2.07 0-2.86zM5.41 20L4 18.59l7.72-7.72 1.47 1.35L5.41 20z\"/>\n",
              "  </svg>\n",
              "      </button>\n",
              "      \n",
              "  <style>\n",
              "    .colab-df-container {\n",
              "      display:flex;\n",
              "      flex-wrap:wrap;\n",
              "      gap: 12px;\n",
              "    }\n",
              "\n",
              "    .colab-df-convert {\n",
              "      background-color: #E8F0FE;\n",
              "      border: none;\n",
              "      border-radius: 50%;\n",
              "      cursor: pointer;\n",
              "      display: none;\n",
              "      fill: #1967D2;\n",
              "      height: 32px;\n",
              "      padding: 0 0 0 0;\n",
              "      width: 32px;\n",
              "    }\n",
              "\n",
              "    .colab-df-convert:hover {\n",
              "      background-color: #E2EBFA;\n",
              "      box-shadow: 0px 1px 2px rgba(60, 64, 67, 0.3), 0px 1px 3px 1px rgba(60, 64, 67, 0.15);\n",
              "      fill: #174EA6;\n",
              "    }\n",
              "\n",
              "    [theme=dark] .colab-df-convert {\n",
              "      background-color: #3B4455;\n",
              "      fill: #D2E3FC;\n",
              "    }\n",
              "\n",
              "    [theme=dark] .colab-df-convert:hover {\n",
              "      background-color: #434B5C;\n",
              "      box-shadow: 0px 1px 3px 1px rgba(0, 0, 0, 0.15);\n",
              "      filter: drop-shadow(0px 1px 2px rgba(0, 0, 0, 0.3));\n",
              "      fill: #FFFFFF;\n",
              "    }\n",
              "  </style>\n",
              "\n",
              "      <script>\n",
              "        const buttonEl =\n",
              "          document.querySelector('#df-6eb61eb1-db4f-45d2-a4e7-6db072d28272 button.colab-df-convert');\n",
              "        buttonEl.style.display =\n",
              "          google.colab.kernel.accessAllowed ? 'block' : 'none';\n",
              "\n",
              "        async function convertToInteractive(key) {\n",
              "          const element = document.querySelector('#df-6eb61eb1-db4f-45d2-a4e7-6db072d28272');\n",
              "          const dataTable =\n",
              "            await google.colab.kernel.invokeFunction('convertToInteractive',\n",
              "                                                     [key], {});\n",
              "          if (!dataTable) return;\n",
              "\n",
              "          const docLinkHtml = 'Like what you see? Visit the ' +\n",
              "            '<a target=\"_blank\" href=https://colab.research.google.com/notebooks/data_table.ipynb>data table notebook</a>'\n",
              "            + ' to learn more about interactive tables.';\n",
              "          element.innerHTML = '';\n",
              "          dataTable['output_type'] = 'display_data';\n",
              "          await google.colab.output.renderOutput(dataTable, element);\n",
              "          const docLink = document.createElement('div');\n",
              "          docLink.innerHTML = docLinkHtml;\n",
              "          element.appendChild(docLink);\n",
              "        }\n",
              "      </script>\n",
              "    </div>\n",
              "  </div>\n",
              "  "
            ],
            "text/plain": [
              "        nodes   edges\n",
              "count  1113.0  1113.0\n",
              "mean     39.1   145.6\n",
              "std      45.8   169.3\n",
              "min       4.0    10.0\n",
              "25%      15.0    56.0\n",
              "50%      26.0    98.0\n",
              "75%      45.0   174.0\n",
              "max     620.0  2098.0"
            ]
          },
          "metadata": {},
          "execution_count": 5
        }
      ]
    },
    {
      "cell_type": "code",
      "source": [
        "graph_labels.value_counts().to_frame()"
      ],
      "metadata": {
        "colab": {
          "base_uri": "https://localhost:8080/",
          "height": 143
        },
        "id": "oNFITc6CNFQy",
        "outputId": "0e378029-9dea-4cb8-c8f7-f20c4efff7b0"
      },
      "execution_count": 29,
      "outputs": [
        {
          "output_type": "execute_result",
          "data": {
            "text/html": [
              "\n",
              "  <div id=\"df-201d9807-0dc6-433b-91d4-10c99eee97fb\">\n",
              "    <div class=\"colab-df-container\">\n",
              "      <div>\n",
              "<style scoped>\n",
              "    .dataframe tbody tr th:only-of-type {\n",
              "        vertical-align: middle;\n",
              "    }\n",
              "\n",
              "    .dataframe tbody tr th {\n",
              "        vertical-align: top;\n",
              "    }\n",
              "\n",
              "    .dataframe thead th {\n",
              "        text-align: right;\n",
              "    }\n",
              "</style>\n",
              "<table border=\"1\" class=\"dataframe\">\n",
              "  <thead>\n",
              "    <tr style=\"text-align: right;\">\n",
              "      <th></th>\n",
              "      <th>0</th>\n",
              "    </tr>\n",
              "    <tr>\n",
              "      <th>2</th>\n",
              "      <th></th>\n",
              "    </tr>\n",
              "  </thead>\n",
              "  <tbody>\n",
              "    <tr>\n",
              "      <th>0</th>\n",
              "      <td>663</td>\n",
              "    </tr>\n",
              "    <tr>\n",
              "      <th>1</th>\n",
              "      <td>450</td>\n",
              "    </tr>\n",
              "  </tbody>\n",
              "</table>\n",
              "</div>\n",
              "      <button class=\"colab-df-convert\" onclick=\"convertToInteractive('df-201d9807-0dc6-433b-91d4-10c99eee97fb')\"\n",
              "              title=\"Convert this dataframe to an interactive table.\"\n",
              "              style=\"display:none;\">\n",
              "        \n",
              "  <svg xmlns=\"http://www.w3.org/2000/svg\" height=\"24px\"viewBox=\"0 0 24 24\"\n",
              "       width=\"24px\">\n",
              "    <path d=\"M0 0h24v24H0V0z\" fill=\"none\"/>\n",
              "    <path d=\"M18.56 5.44l.94 2.06.94-2.06 2.06-.94-2.06-.94-.94-2.06-.94 2.06-2.06.94zm-11 1L8.5 8.5l.94-2.06 2.06-.94-2.06-.94L8.5 2.5l-.94 2.06-2.06.94zm10 10l.94 2.06.94-2.06 2.06-.94-2.06-.94-.94-2.06-.94 2.06-2.06.94z\"/><path d=\"M17.41 7.96l-1.37-1.37c-.4-.4-.92-.59-1.43-.59-.52 0-1.04.2-1.43.59L10.3 9.45l-7.72 7.72c-.78.78-.78 2.05 0 2.83L4 21.41c.39.39.9.59 1.41.59.51 0 1.02-.2 1.41-.59l7.78-7.78 2.81-2.81c.8-.78.8-2.07 0-2.86zM5.41 20L4 18.59l7.72-7.72 1.47 1.35L5.41 20z\"/>\n",
              "  </svg>\n",
              "      </button>\n",
              "      \n",
              "  <style>\n",
              "    .colab-df-container {\n",
              "      display:flex;\n",
              "      flex-wrap:wrap;\n",
              "      gap: 12px;\n",
              "    }\n",
              "\n",
              "    .colab-df-convert {\n",
              "      background-color: #E8F0FE;\n",
              "      border: none;\n",
              "      border-radius: 50%;\n",
              "      cursor: pointer;\n",
              "      display: none;\n",
              "      fill: #1967D2;\n",
              "      height: 32px;\n",
              "      padding: 0 0 0 0;\n",
              "      width: 32px;\n",
              "    }\n",
              "\n",
              "    .colab-df-convert:hover {\n",
              "      background-color: #E2EBFA;\n",
              "      box-shadow: 0px 1px 2px rgba(60, 64, 67, 0.3), 0px 1px 3px 1px rgba(60, 64, 67, 0.15);\n",
              "      fill: #174EA6;\n",
              "    }\n",
              "\n",
              "    [theme=dark] .colab-df-convert {\n",
              "      background-color: #3B4455;\n",
              "      fill: #D2E3FC;\n",
              "    }\n",
              "\n",
              "    [theme=dark] .colab-df-convert:hover {\n",
              "      background-color: #434B5C;\n",
              "      box-shadow: 0px 1px 3px 1px rgba(0, 0, 0, 0.15);\n",
              "      filter: drop-shadow(0px 1px 2px rgba(0, 0, 0, 0.3));\n",
              "      fill: #FFFFFF;\n",
              "    }\n",
              "  </style>\n",
              "\n",
              "      <script>\n",
              "        const buttonEl =\n",
              "          document.querySelector('#df-201d9807-0dc6-433b-91d4-10c99eee97fb button.colab-df-convert');\n",
              "        buttonEl.style.display =\n",
              "          google.colab.kernel.accessAllowed ? 'block' : 'none';\n",
              "\n",
              "        async function convertToInteractive(key) {\n",
              "          const element = document.querySelector('#df-201d9807-0dc6-433b-91d4-10c99eee97fb');\n",
              "          const dataTable =\n",
              "            await google.colab.kernel.invokeFunction('convertToInteractive',\n",
              "                                                     [key], {});\n",
              "          if (!dataTable) return;\n",
              "\n",
              "          const docLinkHtml = 'Like what you see? Visit the ' +\n",
              "            '<a target=\"_blank\" href=https://colab.research.google.com/notebooks/data_table.ipynb>data table notebook</a>'\n",
              "            + ' to learn more about interactive tables.';\n",
              "          element.innerHTML = '';\n",
              "          dataTable['output_type'] = 'display_data';\n",
              "          await google.colab.output.renderOutput(dataTable, element);\n",
              "          const docLink = document.createElement('div');\n",
              "          docLink.innerHTML = docLinkHtml;\n",
              "          element.appendChild(docLink);\n",
              "        }\n",
              "      </script>\n",
              "    </div>\n",
              "  </div>\n",
              "  "
            ],
            "text/plain": [
              "     0\n",
              "2     \n",
              "0  663\n",
              "1  450"
            ]
          },
          "metadata": {},
          "execution_count": 29
        }
      ]
    },
    {
      "cell_type": "code",
      "source": [
        "graph_labels = pd.get_dummies(graph_labels, drop_first=True)"
      ],
      "metadata": {
        "id": "FWSkFpG5NFT7"
      },
      "execution_count": 28,
      "outputs": []
    },
    {
      "cell_type": "code",
      "source": [
        "graph_labels"
      ],
      "metadata": {
        "colab": {
          "base_uri": "https://localhost:8080/"
        },
        "id": "gSS6NbXH0cK6",
        "outputId": "cfd51841-9970-4616-acc0-8cb0f1b34a0e"
      },
      "execution_count": 27,
      "outputs": [
        {
          "output_type": "execute_result",
          "data": {
            "text/plain": [
              "1       1\n",
              "2       1\n",
              "3       1\n",
              "4       1\n",
              "5       1\n",
              "       ..\n",
              "1109    2\n",
              "1110    2\n",
              "1111    2\n",
              "1112    2\n",
              "1113    2\n",
              "Name: label, Length: 1113, dtype: category\n",
              "Categories (2, object): ['1', '2']"
            ]
          },
          "metadata": {},
          "execution_count": 27
        }
      ]
    },
    {
      "cell_type": "code",
      "source": [
        "generator = PaddedGraphGenerator(graphs=graphs)"
      ],
      "metadata": {
        "id": "F3-OjccRNFXD"
      },
      "execution_count": 8,
      "outputs": []
    },
    {
      "cell_type": "code",
      "source": [
        "k = 35  # the number of rows for the output tensor\n",
        "layer_sizes = [32, 32, 32, 1]\n",
        "\n",
        "dgcnn_model = DeepGraphCNN(\n",
        "    layer_sizes=layer_sizes,\n",
        "    activations=[\"tanh\", \"tanh\", \"tanh\", \"tanh\"],\n",
        "    k=k,\n",
        "    bias=False,\n",
        "    generator=generator,\n",
        ")\n",
        "x_inp, x_out = dgcnn_model.in_out_tensors()"
      ],
      "metadata": {
        "colab": {
          "base_uri": "https://localhost:8080/"
        },
        "id": "_ubJ1G6gNFaL",
        "outputId": "7e3d1070-f9ca-4eaa-f85c-27fdddcb0029"
      },
      "execution_count": 9,
      "outputs": [
        {
          "output_type": "stream",
          "name": "stdout",
          "text": [
            "WARNING:tensorflow:From /usr/local/lib/python3.7/dist-packages/tensorflow/python/util/deprecation.py:620: calling map_fn_v2 (from tensorflow.python.ops.map_fn) with dtype is deprecated and will be removed in a future version.\n",
            "Instructions for updating:\n",
            "Use fn_output_signature instead\n"
          ]
        }
      ]
    },
    {
      "cell_type": "code",
      "source": [
        "x_out = Conv1D(filters=16, kernel_size=sum(layer_sizes), strides=sum(layer_sizes))(x_out)\n",
        "x_out = MaxPool1D(pool_size=2)(x_out)\n",
        "\n",
        "x_out = Conv1D(filters=32, kernel_size=5, strides=1)(x_out)\n",
        "\n",
        "x_out = Flatten()(x_out)\n",
        "\n",
        "x_out = Dense(units=128, activation=\"relu\")(x_out)\n",
        "x_out = Dropout(rate=0.5)(x_out)\n",
        "\n",
        "predictions = Dense(units=1, activation=\"sigmoid\")(x_out)"
      ],
      "metadata": {
        "id": "TWMWjl_ONFdT"
      },
      "execution_count": 10,
      "outputs": []
    },
    {
      "cell_type": "code",
      "source": [
        "model = Model(inputs=x_inp, outputs=predictions)\n",
        "\n",
        "model.compile(\n",
        "    optimizer=Adam(learning_rate=0.0001), loss=binary_crossentropy, metrics=[\"acc\"],\n",
        ")"
      ],
      "metadata": {
        "id": "AnEPzDOpNFgt"
      },
      "execution_count": 11,
      "outputs": []
    },
    {
      "cell_type": "code",
      "source": [
        "train_graphs, test_graphs = model_selection.train_test_split(\n",
        "    graph_labels, train_size=0.9, test_size=None, stratify=graph_labels,\n",
        ")"
      ],
      "metadata": {
        "id": "1mZ9Ht5qNFj6"
      },
      "execution_count": 12,
      "outputs": []
    },
    {
      "cell_type": "code",
      "source": [
        "gen = PaddedGraphGenerator(graphs=graphs)\n",
        "\n",
        "train_gen = gen.flow(\n",
        "    list(train_graphs.index - 1),\n",
        "    targets=train_graphs.values,\n",
        "    batch_size=50,\n",
        "    symmetric_normalization=False,\n",
        ")\n",
        "\n",
        "test_gen = gen.flow(\n",
        "    list(test_graphs.index - 1),\n",
        "    targets=test_graphs.values,\n",
        "    batch_size=1,\n",
        "    symmetric_normalization=False,\n",
        ")"
      ],
      "metadata": {
        "id": "0sTOyXn3NFnB"
      },
      "execution_count": 13,
      "outputs": []
    },
    {
      "cell_type": "code",
      "source": [
        "epochs = 100"
      ],
      "metadata": {
        "id": "aXSSDPZVNFqT"
      },
      "execution_count": 14,
      "outputs": []
    },
    {
      "cell_type": "code",
      "source": [
        "history = model.fit(\n",
        "    train_gen, epochs=epochs, verbose=1, validation_data=test_gen, shuffle=True,\n",
        ")"
      ],
      "metadata": {
        "colab": {
          "base_uri": "https://localhost:8080/"
        },
        "id": "kUMWcn5-NFti",
        "outputId": "6c0d9971-c1b9-4c8b-97e8-aed8047aca31"
      },
      "execution_count": 15,
      "outputs": [
        {
          "output_type": "stream",
          "name": "stdout",
          "text": [
            "Epoch 1/100\n"
          ]
        },
        {
          "output_type": "stream",
          "name": "stderr",
          "text": [
            "/usr/local/lib/python3.7/dist-packages/tensorflow/python/framework/indexed_slices.py:450: UserWarning: Converting sparse IndexedSlices(IndexedSlices(indices=Tensor(\"gradient_tape/model/sort_pooling/map/while/gradients/model/sort_pooling/map/while/GatherV2_grad/Reshape_1:0\", shape=(None,), dtype=int32), values=Tensor(\"gradient_tape/model/sort_pooling/map/while/gradients/model/sort_pooling/map/while/GatherV2_grad/Reshape:0\", shape=(None, None), dtype=float32), dense_shape=Tensor(\"gradient_tape/model/sort_pooling/map/while/gradients/model/sort_pooling/map/while/GatherV2_grad/Cast:0\", shape=(2,), dtype=int32))) to a dense Tensor of unknown shape. This may consume a large amount of memory.\n",
            "  \"shape. This may consume a large amount of memory.\" % value)\n"
          ]
        },
        {
          "output_type": "stream",
          "name": "stdout",
          "text": [
            "21/21 [==============================] - 5s 163ms/step - loss: 0.6497 - acc: 0.6044 - val_loss: 0.6150 - val_acc: 0.6161\n",
            "Epoch 2/100\n",
            "21/21 [==============================] - 3s 141ms/step - loss: 0.6226 - acc: 0.6523 - val_loss: 0.6075 - val_acc: 0.7589\n",
            "Epoch 3/100\n",
            "21/21 [==============================] - 3s 144ms/step - loss: 0.6030 - acc: 0.6953 - val_loss: 0.6030 - val_acc: 0.7321\n",
            "Epoch 4/100\n",
            "21/21 [==============================] - 3s 139ms/step - loss: 0.6007 - acc: 0.7133 - val_loss: 0.5989 - val_acc: 0.7054\n",
            "Epoch 5/100\n",
            "21/21 [==============================] - 3s 141ms/step - loss: 0.5882 - acc: 0.7133 - val_loss: 0.5964 - val_acc: 0.6964\n",
            "Epoch 6/100\n",
            "21/21 [==============================] - 3s 138ms/step - loss: 0.5839 - acc: 0.7253 - val_loss: 0.5943 - val_acc: 0.7143\n",
            "Epoch 7/100\n",
            "21/21 [==============================] - 3s 125ms/step - loss: 0.5805 - acc: 0.7183 - val_loss: 0.5928 - val_acc: 0.7054\n",
            "Epoch 8/100\n",
            "21/21 [==============================] - 3s 123ms/step - loss: 0.5824 - acc: 0.7143 - val_loss: 0.5890 - val_acc: 0.7143\n",
            "Epoch 9/100\n",
            "21/21 [==============================] - 3s 145ms/step - loss: 0.5765 - acc: 0.7193 - val_loss: 0.5853 - val_acc: 0.7054\n",
            "Epoch 10/100\n",
            "21/21 [==============================] - 3s 141ms/step - loss: 0.5750 - acc: 0.7123 - val_loss: 0.5799 - val_acc: 0.7054\n",
            "Epoch 11/100\n",
            "21/21 [==============================] - 4s 187ms/step - loss: 0.5751 - acc: 0.7243 - val_loss: 0.5803 - val_acc: 0.7054\n",
            "Epoch 12/100\n",
            "21/21 [==============================] - 5s 224ms/step - loss: 0.5718 - acc: 0.7163 - val_loss: 0.5802 - val_acc: 0.7054\n",
            "Epoch 13/100\n",
            "21/21 [==============================] - 3s 145ms/step - loss: 0.5684 - acc: 0.7273 - val_loss: 0.5773 - val_acc: 0.7054\n",
            "Epoch 14/100\n",
            "21/21 [==============================] - 3s 147ms/step - loss: 0.5645 - acc: 0.7233 - val_loss: 0.5749 - val_acc: 0.7054\n",
            "Epoch 15/100\n",
            "21/21 [==============================] - 3s 146ms/step - loss: 0.5646 - acc: 0.7313 - val_loss: 0.5765 - val_acc: 0.7054\n",
            "Epoch 16/100\n",
            "21/21 [==============================] - 3s 120ms/step - loss: 0.5656 - acc: 0.7333 - val_loss: 0.5701 - val_acc: 0.7054\n",
            "Epoch 17/100\n",
            "21/21 [==============================] - 3s 147ms/step - loss: 0.5571 - acc: 0.7183 - val_loss: 0.5729 - val_acc: 0.7054\n",
            "Epoch 18/100\n",
            "21/21 [==============================] - 3s 146ms/step - loss: 0.5601 - acc: 0.7283 - val_loss: 0.5701 - val_acc: 0.7054\n",
            "Epoch 19/100\n",
            "21/21 [==============================] - 3s 149ms/step - loss: 0.5600 - acc: 0.7293 - val_loss: 0.5682 - val_acc: 0.7143\n",
            "Epoch 20/100\n",
            "21/21 [==============================] - 3s 133ms/step - loss: 0.5594 - acc: 0.7323 - val_loss: 0.5680 - val_acc: 0.7054\n",
            "Epoch 21/100\n",
            "21/21 [==============================] - 3s 146ms/step - loss: 0.5556 - acc: 0.7323 - val_loss: 0.5698 - val_acc: 0.7143\n",
            "Epoch 22/100\n",
            "21/21 [==============================] - 3s 131ms/step - loss: 0.5584 - acc: 0.7203 - val_loss: 0.5685 - val_acc: 0.7143\n",
            "Epoch 23/100\n",
            "21/21 [==============================] - 3s 143ms/step - loss: 0.5534 - acc: 0.7263 - val_loss: 0.5672 - val_acc: 0.7143\n",
            "Epoch 24/100\n",
            "21/21 [==============================] - 3s 142ms/step - loss: 0.5447 - acc: 0.7333 - val_loss: 0.5711 - val_acc: 0.6875\n",
            "Epoch 25/100\n",
            "21/21 [==============================] - 3s 147ms/step - loss: 0.5467 - acc: 0.7313 - val_loss: 0.5748 - val_acc: 0.6696\n",
            "Epoch 26/100\n",
            "21/21 [==============================] - 3s 141ms/step - loss: 0.5428 - acc: 0.7363 - val_loss: 0.5663 - val_acc: 0.7054\n",
            "Epoch 27/100\n",
            "21/21 [==============================] - 3s 146ms/step - loss: 0.5405 - acc: 0.7443 - val_loss: 0.5676 - val_acc: 0.6696\n",
            "Epoch 28/100\n",
            "21/21 [==============================] - 3s 123ms/step - loss: 0.5373 - acc: 0.7443 - val_loss: 0.5697 - val_acc: 0.6607\n",
            "Epoch 29/100\n",
            "21/21 [==============================] - 3s 144ms/step - loss: 0.5466 - acc: 0.7363 - val_loss: 0.5778 - val_acc: 0.6696\n",
            "Epoch 30/100\n",
            "21/21 [==============================] - 3s 151ms/step - loss: 0.5358 - acc: 0.7463 - val_loss: 0.5687 - val_acc: 0.7411\n",
            "Epoch 31/100\n",
            "21/21 [==============================] - 3s 147ms/step - loss: 0.5370 - acc: 0.7473 - val_loss: 0.5737 - val_acc: 0.6696\n",
            "Epoch 32/100\n",
            "21/21 [==============================] - 3s 142ms/step - loss: 0.5416 - acc: 0.7463 - val_loss: 0.5689 - val_acc: 0.7054\n",
            "Epoch 33/100\n",
            "21/21 [==============================] - 3s 148ms/step - loss: 0.5422 - acc: 0.7502 - val_loss: 0.5667 - val_acc: 0.7054\n",
            "Epoch 34/100\n",
            "21/21 [==============================] - 3s 147ms/step - loss: 0.5406 - acc: 0.7473 - val_loss: 0.5722 - val_acc: 0.6696\n",
            "Epoch 35/100\n",
            "21/21 [==============================] - 3s 132ms/step - loss: 0.5316 - acc: 0.7473 - val_loss: 0.5790 - val_acc: 0.6518\n",
            "Epoch 36/100\n",
            "21/21 [==============================] - 3s 130ms/step - loss: 0.5367 - acc: 0.7522 - val_loss: 0.5731 - val_acc: 0.6875\n",
            "Epoch 37/100\n",
            "21/21 [==============================] - 3s 143ms/step - loss: 0.5284 - acc: 0.7522 - val_loss: 0.5876 - val_acc: 0.6250\n",
            "Epoch 38/100\n",
            "21/21 [==============================] - 3s 142ms/step - loss: 0.5286 - acc: 0.7572 - val_loss: 0.5745 - val_acc: 0.6875\n",
            "Epoch 39/100\n",
            "21/21 [==============================] - 3s 142ms/step - loss: 0.5273 - acc: 0.7612 - val_loss: 0.5752 - val_acc: 0.6875\n",
            "Epoch 40/100\n",
            "21/21 [==============================] - 3s 123ms/step - loss: 0.5323 - acc: 0.7473 - val_loss: 0.5722 - val_acc: 0.6875\n",
            "Epoch 41/100\n",
            "21/21 [==============================] - 3s 148ms/step - loss: 0.5226 - acc: 0.7562 - val_loss: 0.5790 - val_acc: 0.6607\n",
            "Epoch 42/100\n",
            "21/21 [==============================] - 3s 146ms/step - loss: 0.5284 - acc: 0.7602 - val_loss: 0.5873 - val_acc: 0.6339\n",
            "Epoch 43/100\n",
            "21/21 [==============================] - 3s 143ms/step - loss: 0.5238 - acc: 0.7602 - val_loss: 0.5849 - val_acc: 0.6339\n",
            "Epoch 44/100\n",
            "21/21 [==============================] - 3s 143ms/step - loss: 0.5252 - acc: 0.7582 - val_loss: 0.5779 - val_acc: 0.6875\n",
            "Epoch 45/100\n",
            "21/21 [==============================] - 3s 150ms/step - loss: 0.5331 - acc: 0.7582 - val_loss: 0.5725 - val_acc: 0.6964\n",
            "Epoch 46/100\n",
            "21/21 [==============================] - 3s 148ms/step - loss: 0.5199 - acc: 0.7602 - val_loss: 0.5778 - val_acc: 0.6875\n",
            "Epoch 47/100\n",
            "21/21 [==============================] - 3s 142ms/step - loss: 0.5231 - acc: 0.7562 - val_loss: 0.5793 - val_acc: 0.6964\n",
            "Epoch 48/100\n",
            "21/21 [==============================] - 3s 148ms/step - loss: 0.5276 - acc: 0.7622 - val_loss: 0.5793 - val_acc: 0.6786\n",
            "Epoch 49/100\n",
            "21/21 [==============================] - 3s 149ms/step - loss: 0.5232 - acc: 0.7632 - val_loss: 0.5797 - val_acc: 0.6875\n",
            "Epoch 50/100\n",
            "21/21 [==============================] - 3s 142ms/step - loss: 0.5269 - acc: 0.7622 - val_loss: 0.5997 - val_acc: 0.6161\n",
            "Epoch 51/100\n",
            "21/21 [==============================] - 3s 147ms/step - loss: 0.5232 - acc: 0.7562 - val_loss: 0.5806 - val_acc: 0.6786\n",
            "Epoch 52/100\n",
            "21/21 [==============================] - 3s 145ms/step - loss: 0.5227 - acc: 0.7662 - val_loss: 0.5838 - val_acc: 0.6696\n",
            "Epoch 53/100\n",
            "21/21 [==============================] - 3s 146ms/step - loss: 0.5180 - acc: 0.7692 - val_loss: 0.5871 - val_acc: 0.6696\n",
            "Epoch 54/100\n",
            "21/21 [==============================] - 3s 144ms/step - loss: 0.5233 - acc: 0.7512 - val_loss: 0.5942 - val_acc: 0.6339\n",
            "Epoch 55/100\n",
            "21/21 [==============================] - 3s 130ms/step - loss: 0.5136 - acc: 0.7562 - val_loss: 0.5989 - val_acc: 0.6339\n",
            "Epoch 56/100\n",
            "21/21 [==============================] - 3s 146ms/step - loss: 0.5141 - acc: 0.7652 - val_loss: 0.5902 - val_acc: 0.6607\n",
            "Epoch 57/100\n",
            "21/21 [==============================] - 3s 146ms/step - loss: 0.5198 - acc: 0.7582 - val_loss: 0.6037 - val_acc: 0.6339\n",
            "Epoch 58/100\n",
            "21/21 [==============================] - 3s 132ms/step - loss: 0.5220 - acc: 0.7632 - val_loss: 0.6094 - val_acc: 0.6339\n",
            "Epoch 59/100\n",
            "21/21 [==============================] - 3s 146ms/step - loss: 0.5151 - acc: 0.7752 - val_loss: 0.6045 - val_acc: 0.6339\n",
            "Epoch 60/100\n",
            "21/21 [==============================] - 3s 149ms/step - loss: 0.5143 - acc: 0.7712 - val_loss: 0.5883 - val_acc: 0.6964\n",
            "Epoch 61/100\n",
            "21/21 [==============================] - 3s 149ms/step - loss: 0.5135 - acc: 0.7612 - val_loss: 0.6093 - val_acc: 0.6339\n",
            "Epoch 62/100\n",
            "21/21 [==============================] - 3s 147ms/step - loss: 0.5179 - acc: 0.7612 - val_loss: 0.5942 - val_acc: 0.6607\n",
            "Epoch 63/100\n",
            "21/21 [==============================] - 3s 150ms/step - loss: 0.5086 - acc: 0.7592 - val_loss: 0.5883 - val_acc: 0.6875\n",
            "Epoch 64/100\n",
            "21/21 [==============================] - 3s 150ms/step - loss: 0.5156 - acc: 0.7483 - val_loss: 0.5998 - val_acc: 0.6429\n",
            "Epoch 65/100\n",
            "21/21 [==============================] - 3s 145ms/step - loss: 0.5164 - acc: 0.7622 - val_loss: 0.6094 - val_acc: 0.6250\n",
            "Epoch 66/100\n",
            "21/21 [==============================] - 3s 149ms/step - loss: 0.5089 - acc: 0.7642 - val_loss: 0.5910 - val_acc: 0.6875\n",
            "Epoch 67/100\n",
            "21/21 [==============================] - 3s 141ms/step - loss: 0.5130 - acc: 0.7692 - val_loss: 0.5939 - val_acc: 0.6875\n",
            "Epoch 68/100\n",
            "21/21 [==============================] - 3s 123ms/step - loss: 0.5193 - acc: 0.7682 - val_loss: 0.6053 - val_acc: 0.6339\n",
            "Epoch 69/100\n",
            "21/21 [==============================] - 3s 137ms/step - loss: 0.5102 - acc: 0.7542 - val_loss: 0.5944 - val_acc: 0.6875\n",
            "Epoch 70/100\n",
            "21/21 [==============================] - 3s 145ms/step - loss: 0.4996 - acc: 0.7532 - val_loss: 0.6079 - val_acc: 0.6339\n",
            "Epoch 71/100\n",
            "21/21 [==============================] - 3s 146ms/step - loss: 0.5087 - acc: 0.7702 - val_loss: 0.6349 - val_acc: 0.5893\n",
            "Epoch 72/100\n",
            "21/21 [==============================] - 3s 142ms/step - loss: 0.5136 - acc: 0.7722 - val_loss: 0.6024 - val_acc: 0.6518\n",
            "Epoch 73/100\n",
            "21/21 [==============================] - 3s 145ms/step - loss: 0.5032 - acc: 0.7632 - val_loss: 0.6002 - val_acc: 0.6607\n",
            "Epoch 74/100\n",
            "21/21 [==============================] - 3s 132ms/step - loss: 0.5043 - acc: 0.7712 - val_loss: 0.6112 - val_acc: 0.6339\n",
            "Epoch 75/100\n",
            "21/21 [==============================] - 3s 150ms/step - loss: 0.5108 - acc: 0.7682 - val_loss: 0.5986 - val_acc: 0.6875\n",
            "Epoch 76/100\n",
            "21/21 [==============================] - 3s 149ms/step - loss: 0.5086 - acc: 0.7622 - val_loss: 0.6143 - val_acc: 0.6339\n",
            "Epoch 77/100\n",
            "21/21 [==============================] - 3s 140ms/step - loss: 0.5098 - acc: 0.7702 - val_loss: 0.6224 - val_acc: 0.6339\n",
            "Epoch 78/100\n",
            "21/21 [==============================] - 3s 124ms/step - loss: 0.5103 - acc: 0.7602 - val_loss: 0.5979 - val_acc: 0.6607\n",
            "Epoch 79/100\n",
            "21/21 [==============================] - 3s 145ms/step - loss: 0.5158 - acc: 0.7572 - val_loss: 0.5931 - val_acc: 0.6875\n",
            "Epoch 80/100\n",
            "21/21 [==============================] - 3s 148ms/step - loss: 0.5085 - acc: 0.7672 - val_loss: 0.5987 - val_acc: 0.6607\n",
            "Epoch 81/100\n",
            "21/21 [==============================] - 3s 146ms/step - loss: 0.5035 - acc: 0.7692 - val_loss: 0.5974 - val_acc: 0.6696\n",
            "Epoch 82/100\n",
            "21/21 [==============================] - 3s 143ms/step - loss: 0.5135 - acc: 0.7592 - val_loss: 0.6177 - val_acc: 0.6339\n",
            "Epoch 83/100\n",
            "21/21 [==============================] - 3s 143ms/step - loss: 0.5041 - acc: 0.7652 - val_loss: 0.6068 - val_acc: 0.6250\n",
            "Epoch 84/100\n",
            "21/21 [==============================] - 3s 144ms/step - loss: 0.5093 - acc: 0.7722 - val_loss: 0.6006 - val_acc: 0.6696\n",
            "Epoch 85/100\n",
            "21/21 [==============================] - 3s 141ms/step - loss: 0.5070 - acc: 0.7712 - val_loss: 0.5972 - val_acc: 0.6964\n",
            "Epoch 86/100\n",
            "21/21 [==============================] - 3s 145ms/step - loss: 0.5107 - acc: 0.7602 - val_loss: 0.6038 - val_acc: 0.6518\n",
            "Epoch 87/100\n",
            "21/21 [==============================] - 3s 141ms/step - loss: 0.5097 - acc: 0.7722 - val_loss: 0.6033 - val_acc: 0.6607\n",
            "Epoch 88/100\n",
            "21/21 [==============================] - 3s 143ms/step - loss: 0.4998 - acc: 0.7672 - val_loss: 0.6155 - val_acc: 0.6339\n",
            "Epoch 89/100\n",
            "21/21 [==============================] - 3s 129ms/step - loss: 0.5053 - acc: 0.7692 - val_loss: 0.6016 - val_acc: 0.6607\n",
            "Epoch 90/100\n",
            "21/21 [==============================] - 3s 141ms/step - loss: 0.5061 - acc: 0.7582 - val_loss: 0.5960 - val_acc: 0.6875\n",
            "Epoch 91/100\n",
            "21/21 [==============================] - 3s 143ms/step - loss: 0.5026 - acc: 0.7712 - val_loss: 0.6264 - val_acc: 0.6250\n",
            "Epoch 92/100\n",
            "21/21 [==============================] - 3s 149ms/step - loss: 0.4963 - acc: 0.7722 - val_loss: 0.6030 - val_acc: 0.6607\n",
            "Epoch 93/100\n",
            "21/21 [==============================] - 3s 141ms/step - loss: 0.5044 - acc: 0.7662 - val_loss: 0.6129 - val_acc: 0.6339\n",
            "Epoch 94/100\n",
            "21/21 [==============================] - 3s 147ms/step - loss: 0.5005 - acc: 0.7572 - val_loss: 0.6160 - val_acc: 0.6339\n",
            "Epoch 95/100\n",
            "21/21 [==============================] - 3s 149ms/step - loss: 0.5007 - acc: 0.7692 - val_loss: 0.6253 - val_acc: 0.6339\n",
            "Epoch 96/100\n",
            "21/21 [==============================] - 3s 144ms/step - loss: 0.4936 - acc: 0.7762 - val_loss: 0.6110 - val_acc: 0.6339\n",
            "Epoch 97/100\n",
            "21/21 [==============================] - 3s 125ms/step - loss: 0.4991 - acc: 0.7752 - val_loss: 0.6137 - val_acc: 0.6339\n",
            "Epoch 98/100\n",
            "21/21 [==============================] - 3s 146ms/step - loss: 0.4991 - acc: 0.7662 - val_loss: 0.6132 - val_acc: 0.6339\n",
            "Epoch 99/100\n",
            "21/21 [==============================] - 3s 124ms/step - loss: 0.5136 - acc: 0.7632 - val_loss: 0.6007 - val_acc: 0.6964\n",
            "Epoch 100/100\n",
            "21/21 [==============================] - 3s 145ms/step - loss: 0.5035 - acc: 0.7632 - val_loss: 0.6017 - val_acc: 0.6696\n"
          ]
        }
      ]
    },
    {
      "cell_type": "code",
      "source": [
        "sg.utils.plot_history(history)"
      ],
      "metadata": {
        "colab": {
          "base_uri": "https://localhost:8080/",
          "height": 585
        },
        "id": "OjWxVmsYNFw1",
        "outputId": "36044897-a918-464c-b084-7e0ced829b0e"
      },
      "execution_count": 16,
      "outputs": [
        {
          "output_type": "display_data",
          "data": {
            "image/png": "[encoded data removed]",
            "text/plain": [
              "<Figure size 504x576 with 2 Axes>"
            ]
          },
          "metadata": {
            "needs_background": "light"
          }
        }
      ]
    },
    {
      "cell_type": "code",
      "source": [
        "test_metrics = model.evaluate(test_gen)\n",
        "print(\"\\nTest Set Metrics:\")\n",
        "for name, val in zip(model.metrics_names, test_metrics):\n",
        "    print(\"\\t{}: {:0.4f}\".format(name, val))"
      ],
      "metadata": {
        "colab": {
          "base_uri": "https://localhost:8080/"
        },
        "id": "AeZqqm6VNFz8",
        "outputId": "ab89ad7b-ba3b-49dd-bb3d-bb85dd746ef6"
      },
      "execution_count": 17,
      "outputs": [
        {
          "output_type": "stream",
          "name": "stdout",
          "text": [
            "112/112 [==============================] - 0s 3ms/step - loss: 0.6017 - acc: 0.6696\n",
            "\n",
            "Test Set Metrics:\n",
            "\tloss: 0.6017\n",
            "\tacc: 0.6696\n"
          ]
        }
      ]
    },
    {
      "cell_type": "code",
      "source": [
        "prediction= model.predict_generator(test_gen)\n",
        "prediction"
      ],
      "metadata": {
        "id": "YtblaARJNF25",
        "colab": {
          "base_uri": "https://localhost:8080/"
        },
        "outputId": "4aabfce6-ad3f-4be0-da26-f1a5666ea201"
      },
      "execution_count": 32,
      "outputs": [
        {
          "output_type": "stream",
          "name": "stderr",
          "text": [
            "/usr/local/lib/python3.7/dist-packages/ipykernel_launcher.py:1: UserWarning: `Model.predict_generator` is deprecated and will be removed in a future version. Please use `Model.predict`, which supports generators.\n",
            "  \"\"\"Entry point for launching an IPython kernel.\n"
          ]
        },
        {
          "output_type": "execute_result",
          "data": {
            "text/plain": [
              "array([[0.10320002],\n",
              "       [0.34881192],\n",
              "       [0.5109283 ],\n",
              "       [0.23822856],\n",
              "       [0.28874344],\n",
              "       [0.9227419 ],\n",
              "       [0.1277923 ],\n",
              "       [0.86906576],\n",
              "       [0.61681676],\n",
              "       [0.30933654],\n",
              "       [0.9202517 ],\n",
              "       [0.88623   ],\n",
              "       [0.36961848],\n",
              "       [0.5049988 ],\n",
              "       [0.26751202],\n",
              "       [0.13236886],\n",
              "       [0.68828386],\n",
              "       [0.8551714 ],\n",
              "       [0.08666143],\n",
              "       [0.31979316],\n",
              "       [0.28522837],\n",
              "       [0.46348938],\n",
              "       [0.16622224],\n",
              "       [0.4565159 ],\n",
              "       [0.564253  ],\n",
              "       [0.3672201 ],\n",
              "       [0.53613853],\n",
              "       [0.3661753 ],\n",
              "       [0.38116157],\n",
              "       [0.17243877],\n",
              "       [0.12773469],\n",
              "       [0.5803811 ],\n",
              "       [0.24879771],\n",
              "       [0.13291973],\n",
              "       [0.47135803],\n",
              "       [0.43589896],\n",
              "       [0.15153569],\n",
              "       [0.3124104 ],\n",
              "       [0.23630306],\n",
              "       [0.1591155 ],\n",
              "       [0.40861067],\n",
              "       [0.2351658 ],\n",
              "       [0.9056144 ],\n",
              "       [0.8389677 ],\n",
              "       [0.19199151],\n",
              "       [0.9309602 ],\n",
              "       [0.511816  ],\n",
              "       [0.9416863 ],\n",
              "       [0.91982996],\n",
              "       [0.9056691 ],\n",
              "       [0.54498136],\n",
              "       [0.23068905],\n",
              "       [0.3506465 ],\n",
              "       [0.9353627 ],\n",
              "       [0.8920649 ],\n",
              "       [0.07370922],\n",
              "       [0.16982344],\n",
              "       [0.12863693],\n",
              "       [0.09856266],\n",
              "       [0.2770301 ],\n",
              "       [0.16997227],\n",
              "       [0.66708255],\n",
              "       [0.44066846],\n",
              "       [0.11589345],\n",
              "       [0.16413555],\n",
              "       [0.6158247 ],\n",
              "       [0.5142281 ],\n",
              "       [0.87534595],\n",
              "       [0.19213387],\n",
              "       [0.24718493],\n",
              "       [0.11257941],\n",
              "       [0.45026666],\n",
              "       [0.30925077],\n",
              "       [0.28368074],\n",
              "       [0.9538686 ],\n",
              "       [0.13043287],\n",
              "       [0.10484174],\n",
              "       [0.19520417],\n",
              "       [0.5176769 ],\n",
              "       [0.7056578 ],\n",
              "       [0.1714125 ],\n",
              "       [0.17642337],\n",
              "       [0.9344995 ],\n",
              "       [0.90203524],\n",
              "       [0.9027961 ],\n",
              "       [0.24901637],\n",
              "       [0.5515832 ],\n",
              "       [0.17398316],\n",
              "       [0.1708503 ],\n",
              "       [0.655504  ],\n",
              "       [0.21343556],\n",
              "       [0.31189772],\n",
              "       [0.28152958],\n",
              "       [0.6663195 ],\n",
              "       [0.3368086 ],\n",
              "       [0.15495369],\n",
              "       [0.24796623],\n",
              "       [0.9100544 ],\n",
              "       [0.15965328],\n",
              "       [0.8088672 ],\n",
              "       [0.5985663 ],\n",
              "       [0.41534707],\n",
              "       [0.91476154],\n",
              "       [0.1059061 ],\n",
              "       [0.2372826 ],\n",
              "       [0.14794266],\n",
              "       [0.17780823],\n",
              "       [0.23550653],\n",
              "       [0.6913612 ],\n",
              "       [0.5225733 ],\n",
              "       [0.8854097 ],\n",
              "       [0.261487  ]], dtype=float32)"
            ]
          },
          "metadata": {},
          "execution_count": 32
        }
      ]
    },
    {
      "cell_type": "code",
      "metadata": {
        "id": "YHFNQKqR7e_z"
      },
      "source": [
        ""
      ],
      "execution_count": null,
      "outputs": []
    }
  ]
}